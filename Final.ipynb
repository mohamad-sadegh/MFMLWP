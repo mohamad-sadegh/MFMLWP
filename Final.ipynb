{
 "cells": [
  {
   "cell_type": "markdown",
   "id": "ad98c504",
   "metadata": {},
   "source": [
    "# Vectors"
   ]
  },
  {
   "cell_type": "code",
   "execution_count": 1,
   "id": "dca2906a",
   "metadata": {},
   "outputs": [],
   "source": [
    "import numpy as np\n",
    "import matplotlib.pyplot as plt"
   ]
  },
  {
   "cell_type": "markdown",
   "id": "fb935f45",
   "metadata": {},
   "source": [
    "define a vector or matrix:"
   ]
  },
  {
   "cell_type": "code",
   "execution_count": 5,
   "id": "b7fd98df",
   "metadata": {},
   "outputs": [
    {
     "name": "stdout",
     "output_type": "stream",
     "text": [
      "[4 5 6]\n"
     ]
    }
   ],
   "source": [
    "a = np.array([4, 5, 6])\n",
    "print(a)"
   ]
  },
  {
   "cell_type": "code",
   "execution_count": 7,
   "id": "a24529d7",
   "metadata": {},
   "outputs": [
    {
     "name": "stdout",
     "output_type": "stream",
     "text": [
      "[1 2 3]\n"
     ]
    }
   ],
   "source": [
    "b = np.array([1, 2, 3])\n",
    "print(b)"
   ]
  },
  {
   "cell_type": "markdown",
   "id": "131ec35a",
   "metadata": {},
   "source": [
    "operators on matrix and vectors:"
   ]
  },
  {
   "cell_type": "code",
   "execution_count": 8,
   "id": "61d83965",
   "metadata": {},
   "outputs": [
    {
     "data": {
      "text/plain": [
       "array([5, 7, 9])"
      ]
     },
     "execution_count": 8,
     "metadata": {},
     "output_type": "execute_result"
    }
   ],
   "source": [
    "a + b"
   ]
  },
  {
   "cell_type": "code",
   "execution_count": 9,
   "id": "e43687c5",
   "metadata": {},
   "outputs": [
    {
     "data": {
      "text/plain": [
       "array([3, 3, 3])"
      ]
     },
     "execution_count": 9,
     "metadata": {},
     "output_type": "execute_result"
    }
   ],
   "source": [
    "a - b"
   ]
  },
  {
   "cell_type": "code",
   "execution_count": 10,
   "id": "edb4536e",
   "metadata": {},
   "outputs": [
    {
     "data": {
      "text/plain": [
       "array([ 4, 10, 18])"
      ]
     },
     "execution_count": 10,
     "metadata": {},
     "output_type": "execute_result"
    }
   ],
   "source": [
    "a * b"
   ]
  },
  {
   "cell_type": "code",
   "execution_count": 11,
   "id": "da015374",
   "metadata": {},
   "outputs": [
    {
     "data": {
      "text/plain": [
       "array([4. , 2.5, 2. ])"
      ]
     },
     "execution_count": 11,
     "metadata": {},
     "output_type": "execute_result"
    }
   ],
   "source": [
    "a / b"
   ]
  },
  {
   "cell_type": "code",
   "execution_count": 12,
   "id": "9c81a96a",
   "metadata": {},
   "outputs": [
    {
     "data": {
      "text/plain": [
       "array([5, 7, 9])"
      ]
     },
     "execution_count": 12,
     "metadata": {},
     "output_type": "execute_result"
    }
   ],
   "source": [
    "np.add(a, b)"
   ]
  },
  {
   "cell_type": "code",
   "execution_count": 13,
   "id": "173f5bbd",
   "metadata": {},
   "outputs": [
    {
     "data": {
      "text/plain": [
       "32"
      ]
     },
     "execution_count": 13,
     "metadata": {},
     "output_type": "execute_result"
    }
   ],
   "source": [
    "np.dot(a, b)"
   ]
  },
  {
   "cell_type": "code",
   "execution_count": 14,
   "id": "02e97712",
   "metadata": {},
   "outputs": [
    {
     "data": {
      "text/plain": [
       "8.774964387392123"
      ]
     },
     "execution_count": 14,
     "metadata": {},
     "output_type": "execute_result"
    }
   ],
   "source": [
    "np.linalg.norm(a)"
   ]
  },
  {
   "cell_type": "code",
   "execution_count": 36,
   "id": "2eb54c79",
   "metadata": {},
   "outputs": [
    {
     "data": {
      "text/plain": [
       "array([ 4, 10, 18])"
      ]
     },
     "execution_count": 36,
     "metadata": {},
     "output_type": "execute_result"
    }
   ],
   "source": [
    "np.multiply(a,b)"
   ]
  },
  {
   "cell_type": "markdown",
   "id": "39bce5fe",
   "metadata": {},
   "source": [
    "#### example:"
   ]
  },
  {
   "cell_type": "code",
   "execution_count": 35,
   "id": "89bcbdcc",
   "metadata": {},
   "outputs": [
    {
     "data": {
      "image/png": "[encoded data removed]",
      "text/plain": [
       "<Figure size 640x480 with 1 Axes>"
      ]
     },
     "metadata": {},
     "output_type": "display_data"
    },
    {
     "data": {
      "text/plain": [
       "1.5707963267948966"
      ]
     },
     "execution_count": 35,
     "metadata": {},
     "output_type": "execute_result"
    }
   ],
   "source": [
    "y = np.array([3, 0])\n",
    "x = np.array([0, 3])\n",
    "teta = np.arccos(np.dot(x, y) / (np.linalg.norm(a) * np.linalg.norm(b)))\n",
    "plt.quiver(x[0], x[1], angles='xy', scale_units='xy', scale=1)\n",
    "plt.quiver(y[0], y[1], angles='xy', scale_units='xy', scale=1)\n",
    "plt.axvline(x=0 ,color='grey')\n",
    "plt.axhline(y=0 ,color='grey')\n",
    "plt.xlim(-1,11)\n",
    "plt.ylim(-1,7)\n",
    "plt.show()\n",
    "teta"
   ]
  },
  {
   "cell_type": "markdown",
   "id": "f83e3d92",
   "metadata": {},
   "source": [
    "# Matrix"
   ]
  },
  {
   "cell_type": "code",
   "execution_count": 52,
   "id": "adab6e9b",
   "metadata": {},
   "outputs": [
    {
     "name": "stdout",
     "output_type": "stream",
     "text": [
      "[[1 2 3]\n",
      " [4 5 6]\n",
      " [7 8 9]]\n"
     ]
    }
   ],
   "source": [
    "a = np.array([[1, 2, 3], [4, 5, 6], [7, 8, 9]])\n",
    "print(a)"
   ]
  },
  {
   "cell_type": "code",
   "execution_count": 53,
   "id": "3ea1a4f3",
   "metadata": {},
   "outputs": [
    {
     "data": {
      "text/plain": [
       "(3, 3)"
      ]
     },
     "execution_count": 53,
     "metadata": {},
     "output_type": "execute_result"
    }
   ],
   "source": [
    "a.shape"
   ]
  },
  {
   "cell_type": "code",
   "execution_count": 54,
   "id": "61f5c9a5",
   "metadata": {},
   "outputs": [
    {
     "data": {
      "text/plain": [
       "2"
      ]
     },
     "execution_count": 54,
     "metadata": {},
     "output_type": "execute_result"
    }
   ],
   "source": [
    "a.ndim"
   ]
  },
  {
   "cell_type": "code",
   "execution_count": 55,
   "id": "d894834b",
   "metadata": {},
   "outputs": [
    {
     "data": {
      "text/plain": [
       "9"
      ]
     },
     "execution_count": 55,
     "metadata": {},
     "output_type": "execute_result"
    }
   ],
   "source": [
    "a.size"
   ]
  },
  {
   "cell_type": "code",
   "execution_count": 68,
   "id": "d98c1afd",
   "metadata": {},
   "outputs": [
    {
     "data": {
      "text/plain": [
       "array([[1],\n",
       "       [4],\n",
       "       [7]])"
      ]
     },
     "execution_count": 68,
     "metadata": {},
     "output_type": "execute_result"
    }
   ],
   "source": [
    "a[0:3, 0:1]"
   ]
  },
  {
   "cell_type": "code",
   "execution_count": 71,
   "id": "8068c035",
   "metadata": {},
   "outputs": [
    {
     "data": {
      "text/plain": [
       "array([[3, 6, 9]])"
      ]
     },
     "execution_count": 71,
     "metadata": {},
     "output_type": "execute_result"
    }
   ],
   "source": [
    "a[0:3, 2:3].T"
   ]
  },
  {
   "cell_type": "code",
   "execution_count": 73,
   "id": "499d6a15",
   "metadata": {},
   "outputs": [
    {
     "data": {
      "text/plain": [
       "15"
      ]
     },
     "execution_count": 73,
     "metadata": {},
     "output_type": "execute_result"
    }
   ],
   "source": [
    "np.trace(a.T)"
   ]
  },
  {
   "cell_type": "code",
   "execution_count": 74,
   "id": "a2f79f66",
   "metadata": {},
   "outputs": [
    {
     "data": {
      "text/plain": [
       "array([[1, 4, 7],\n",
       "       [2, 5, 8],\n",
       "       [3, 6, 9]])"
      ]
     },
     "execution_count": 74,
     "metadata": {},
     "output_type": "execute_result"
    }
   ],
   "source": [
    "a.T"
   ]
  },
  {
   "cell_type": "code",
   "execution_count": 77,
   "id": "bf89892c",
   "metadata": {},
   "outputs": [
    {
     "data": {
      "text/plain": [
       "array([[1, 2, 3],\n",
       "       [4, 5, 6],\n",
       "       [7, 8, 9]])"
      ]
     },
     "execution_count": 77,
     "metadata": {},
     "output_type": "execute_result"
    }
   ],
   "source": [
    "a"
   ]
  },
  {
   "cell_type": "code",
   "execution_count": 75,
   "id": "cda5b0fe",
   "metadata": {},
   "outputs": [
    {
     "data": {
      "text/plain": [
       "-9.51619735392994e-16"
      ]
     },
     "execution_count": 75,
     "metadata": {},
     "output_type": "execute_result"
    }
   ],
   "source": [
    "np.linalg.det(a)"
   ]
  },
  {
   "cell_type": "code",
   "execution_count": 76,
   "id": "1616aa8e",
   "metadata": {},
   "outputs": [
    {
     "data": {
      "text/plain": [
       "0.0"
      ]
     },
     "execution_count": 76,
     "metadata": {},
     "output_type": "execute_result"
    }
   ],
   "source": [
    "np.linalg.det(a.T)"
   ]
  },
  {
   "cell_type": "code",
   "execution_count": 81,
   "id": "f83c71c6",
   "metadata": {},
   "outputs": [
    {
     "data": {
      "text/plain": [
       "array([[ 3.15251974e+15, -6.30503948e+15,  3.15251974e+15],\n",
       "       [-6.30503948e+15,  1.26100790e+16, -6.30503948e+15],\n",
       "       [ 3.15251974e+15, -6.30503948e+15,  3.15251974e+15]])"
      ]
     },
     "execution_count": 81,
     "metadata": {},
     "output_type": "execute_result"
    }
   ],
   "source": [
    "np.linalg.inv(a)"
   ]
  },
  {
   "cell_type": "code",
   "execution_count": 82,
   "id": "aa3309ff",
   "metadata": {},
   "outputs": [],
   "source": [
    "import sympy as sp"
   ]
  },
  {
   "cell_type": "code",
   "execution_count": 96,
   "id": "5a7004b5",
   "metadata": {},
   "outputs": [
    {
     "data": {
      "text/latex": [
       "$\\displaystyle \\left[\\begin{matrix}1 & 8 & 74\\\\2 & 3 & 12\\\\7 & 8 & 9\\end{matrix}\\right]$"
      ],
      "text/plain": [
       "Matrix([\n",
       "[1, 8, 74],\n",
       "[2, 3, 12],\n",
       "[7, 8,  9]])"
      ]
     },
     "execution_count": 96,
     "metadata": {},
     "output_type": "execute_result"
    }
   ],
   "source": [
    "a = sp.Matrix([[1, 8, 74], [2, 3, 12], [7, 8, 9]])\n",
    "a"
   ]
  },
  {
   "cell_type": "code",
   "execution_count": 97,
   "id": "37e91b0f",
   "metadata": {},
   "outputs": [
    {
     "data": {
      "text/latex": [
       "$\\displaystyle \\left[\\begin{matrix}1 & 8 & 74\\end{matrix}\\right]$"
      ],
      "text/plain": [
       "Matrix([[1, 8, 74]])"
      ]
     },
     "execution_count": 97,
     "metadata": {},
     "output_type": "execute_result"
    }
   ],
   "source": [
    "a.row(0)"
   ]
  },
  {
   "cell_type": "code",
   "execution_count": 98,
   "id": "033d7731",
   "metadata": {},
   "outputs": [
    {
     "data": {
      "text/latex": [
       "$\\displaystyle \\left[\\begin{matrix}8\\\\3\\\\8\\end{matrix}\\right]$"
      ],
      "text/plain": [
       "Matrix([\n",
       "[8],\n",
       "[3],\n",
       "[8]])"
      ]
     },
     "execution_count": 98,
     "metadata": {},
     "output_type": "execute_result"
    }
   ],
   "source": [
    "a.col(1)"
   ]
  },
  {
   "cell_type": "code",
   "execution_count": 99,
   "id": "670c4fb2",
   "metadata": {},
   "outputs": [
    {
     "data": {
      "text/plain": [
       "(3, 3)"
      ]
     },
     "execution_count": 99,
     "metadata": {},
     "output_type": "execute_result"
    }
   ],
   "source": [
    "a.shape"
   ]
  },
  {
   "cell_type": "code",
   "execution_count": 100,
   "id": "ac43c159",
   "metadata": {},
   "outputs": [
    {
     "data": {
      "text/plain": [
       "sympy.matrices.dense.MutableDenseMatrix"
      ]
     },
     "execution_count": 100,
     "metadata": {},
     "output_type": "execute_result"
    }
   ],
   "source": [
    "type(a)"
   ]
  },
  {
   "cell_type": "code",
   "execution_count": 101,
   "id": "3c1ef4ff",
   "metadata": {},
   "outputs": [
    {
     "data": {
      "text/latex": [
       "$\\displaystyle \\left[\\begin{matrix}- \\frac{69}{89} & \\frac{520}{89} & - \\frac{126}{89}\\\\\\frac{66}{89} & - \\frac{509}{89} & \\frac{136}{89}\\\\- \\frac{5}{89} & \\frac{48}{89} & - \\frac{13}{89}\\end{matrix}\\right]$"
      ],
      "text/plain": [
       "Matrix([\n",
       "[-69/89,  520/89, -126/89],\n",
       "[ 66/89, -509/89,  136/89],\n",
       "[ -5/89,   48/89,  -13/89]])"
      ]
     },
     "execution_count": 101,
     "metadata": {},
     "output_type": "execute_result"
    }
   ],
   "source": [
    "a.inv()"
   ]
  },
  {
   "cell_type": "code",
   "execution_count": 102,
   "id": "e4f2b242",
   "metadata": {},
   "outputs": [
    {
     "data": {
      "text/latex": [
       "$\\displaystyle 89$"
      ],
      "text/plain": [
       "89"
      ]
     },
     "execution_count": 102,
     "metadata": {},
     "output_type": "execute_result"
    }
   ],
   "source": [
    "a.det()"
   ]
  },
  {
   "cell_type": "code",
   "execution_count": 103,
   "id": "049b1024",
   "metadata": {},
   "outputs": [
    {
     "data": {
      "text/latex": [
       "$\\displaystyle \\left[\\begin{matrix}- \\frac{69}{89} & \\frac{66}{89} & - \\frac{5}{89}\\\\\\frac{520}{89} & - \\frac{509}{89} & \\frac{48}{89}\\\\- \\frac{126}{89} & \\frac{136}{89} & - \\frac{13}{89}\\end{matrix}\\right]$"
      ],
      "text/plain": [
       "Matrix([\n",
       "[ -69/89,   66/89,  -5/89],\n",
       "[ 520/89, -509/89,  48/89],\n",
       "[-126/89,  136/89, -13/89]])"
      ]
     },
     "execution_count": 103,
     "metadata": {},
     "output_type": "execute_result"
    }
   ],
   "source": [
    "a.transpose().inv()"
   ]
  },
  {
   "cell_type": "code",
   "execution_count": 109,
   "id": "ca33e35b",
   "metadata": {},
   "outputs": [
    {
     "data": {
      "text/latex": [
       "$\\displaystyle \\left[\\begin{matrix}0 & 0 & 0 & 0\\\\0 & 0 & 0 & 0\\\\0 & 0 & 0 & 0\\\\0 & 0 & 0 & 0\\end{matrix}\\right]$"
      ],
      "text/plain": [
       "Matrix([\n",
       "[0, 0, 0, 0],\n",
       "[0, 0, 0, 0],\n",
       "[0, 0, 0, 0],\n",
       "[0, 0, 0, 0]])"
      ]
     },
     "execution_count": 109,
     "metadata": {},
     "output_type": "execute_result"
    }
   ],
   "source": [
    "sp.zeros(4)"
   ]
  },
  {
   "cell_type": "code",
   "execution_count": 110,
   "id": "26897676",
   "metadata": {},
   "outputs": [
    {
     "name": "stdout",
     "output_type": "stream",
     "text": [
      "Matrix([[0, 0, 0, 0], [0, 0, 0, 0], [0, 0, 0, 0], [0, 0, 0, 0]])\n"
     ]
    }
   ],
   "source": [
    "print(sp.zeros(4))"
   ]
  },
  {
   "cell_type": "code",
   "execution_count": 112,
   "id": "191c2ab2",
   "metadata": {},
   "outputs": [
    {
     "data": {
      "text/latex": [
       "$\\displaystyle \\left[\\begin{matrix}0 & 0 & 0 & 0\\\\0 & 0 & 0 & 0\\\\0 & 0 & 0 & 0\\\\0 & 0 & 0 & 0\\end{matrix}\\right]$"
      ],
      "text/plain": [
       "Matrix([\n",
       "[0, 0, 0, 0],\n",
       "[0, 0, 0, 0],\n",
       "[0, 0, 0, 0],\n",
       "[0, 0, 0, 0]])"
      ]
     },
     "execution_count": 112,
     "metadata": {},
     "output_type": "execute_result"
    }
   ],
   "source": [
    "sp.zeros(4) * 1"
   ]
  },
  {
   "cell_type": "code",
   "execution_count": 114,
   "id": "6c24b540",
   "metadata": {},
   "outputs": [
    {
     "data": {
      "text/latex": [
       "$\\displaystyle \\left[\\begin{matrix}1 & 0 & 0 & 0\\\\0 & 1 & 0 & 0\\\\0 & 0 & 1 & 0\\\\0 & 0 & 0 & 1\\end{matrix}\\right]$"
      ],
      "text/plain": [
       "Matrix([\n",
       "[1, 0, 0, 0],\n",
       "[0, 1, 0, 0],\n",
       "[0, 0, 1, 0],\n",
       "[0, 0, 0, 1]])"
      ]
     },
     "execution_count": 114,
     "metadata": {},
     "output_type": "execute_result"
    }
   ],
   "source": [
    "sp.eye(4)"
   ]
  },
  {
   "cell_type": "code",
   "execution_count": 115,
   "id": "6048c9a4",
   "metadata": {},
   "outputs": [
    {
     "data": {
      "text/latex": [
       "$\\displaystyle \\left[\\begin{matrix}1 & 0 & 0 & 0\\\\0 & 2 & 0 & 0\\\\0 & 0 & 3 & 0\\\\0 & 0 & 0 & 4\\end{matrix}\\right]$"
      ],
      "text/plain": [
       "Matrix([\n",
       "[1, 0, 0, 0],\n",
       "[0, 2, 0, 0],\n",
       "[0, 0, 3, 0],\n",
       "[0, 0, 0, 4]])"
      ]
     },
     "execution_count": 115,
     "metadata": {},
     "output_type": "execute_result"
    }
   ],
   "source": [
    "sp.diag(1,2,3,4)"
   ]
  },
  {
   "cell_type": "markdown",
   "id": "669a6919",
   "metadata": {},
   "source": [
    "# Limit"
   ]
  },
  {
   "cell_type": "code",
   "execution_count": 131,
   "id": "cdcd162e",
   "metadata": {},
   "outputs": [],
   "source": [
    "x = sp.symbols('x')"
   ]
  },
  {
   "cell_type": "code",
   "execution_count": 123,
   "id": "3dea0808",
   "metadata": {},
   "outputs": [
    {
     "data": {
      "text/latex": [
       "$\\displaystyle x^{2} + 4 x + e^{x} + \\log{\\left(x \\right)} + 5 + \\frac{1}{x}$"
      ],
      "text/plain": [
       "x**2 + 4*x + exp(x) + log(x) + 5 + 1/x"
      ]
     },
     "execution_count": 123,
     "metadata": {},
     "output_type": "execute_result"
    }
   ],
   "source": [
    "x ** 2 + 5 + 4 * x + sp.log(x) + sp.exp(x) + (1/x)"
   ]
  },
  {
   "cell_type": "code",
   "execution_count": 137,
   "id": "595a23bf",
   "metadata": {},
   "outputs": [
    {
     "data": {
      "text/latex": [
       "$\\displaystyle \\frac{x^{2} - 1}{x - 1}$"
      ],
      "text/plain": [
       "(x**2 - 1)/(x - 1)"
      ]
     },
     "execution_count": 137,
     "metadata": {},
     "output_type": "execute_result"
    }
   ],
   "source": [
    "f = (x ** 2 - 1) / (x - 1)\n",
    "f"
   ]
  },
  {
   "cell_type": "code",
   "execution_count": 138,
   "id": "232e153b",
   "metadata": {},
   "outputs": [
    {
     "data": {
      "text/latex": [
       "$\\displaystyle 2$"
      ],
      "text/plain": [
       "2"
      ]
     },
     "execution_count": 138,
     "metadata": {},
     "output_type": "execute_result"
    }
   ],
   "source": [
    "sp.limit(f, x, 1)"
   ]
  },
  {
   "cell_type": "code",
   "execution_count": 139,
   "id": "5f7f66b3",
   "metadata": {},
   "outputs": [],
   "source": [
    "def f(x):\n",
    "  y = (x **2 -1) / (x-1)\n",
    "  return y"
   ]
  },
  {
   "cell_type": "code",
   "execution_count": 144,
   "id": "759b74aa",
   "metadata": {},
   "outputs": [
    {
     "data": {
      "text/plain": [
       "2.0000999999993923"
      ]
     },
     "execution_count": 144,
     "metadata": {},
     "output_type": "execute_result"
    }
   ],
   "source": [
    "f(1.0001)"
   ]
  },
  {
   "cell_type": "code",
   "execution_count": 147,
   "id": "c56a862e",
   "metadata": {},
   "outputs": [
    {
     "data": {
      "text/latex": [
       "$\\displaystyle \\frac{1}{x}$"
      ],
      "text/plain": [
       "1/x"
      ]
     },
     "execution_count": 147,
     "metadata": {},
     "output_type": "execute_result"
    }
   ],
   "source": [
    "f = 1 / x\n",
    "f"
   ]
  },
  {
   "cell_type": "code",
   "execution_count": 150,
   "id": "e7e60a40",
   "metadata": {},
   "outputs": [
    {
     "data": {
      "text/latex": [
       "$\\displaystyle 1$"
      ],
      "text/plain": [
       "1"
      ]
     },
     "execution_count": 150,
     "metadata": {},
     "output_type": "execute_result"
    }
   ],
   "source": [
    "sp.limit(f, x, 1, '-')"
   ]
  },
  {
   "cell_type": "markdown",
   "id": "31edbb98",
   "metadata": {},
   "source": [
    "# Diff"
   ]
  },
  {
   "cell_type": "code",
   "execution_count": 152,
   "id": "7c45b0d6",
   "metadata": {},
   "outputs": [],
   "source": [
    "x, y = sp.symbols('x, y')"
   ]
  },
  {
   "cell_type": "code",
   "execution_count": 155,
   "id": "0daa3ed9",
   "metadata": {},
   "outputs": [
    {
     "data": {
      "text/latex": [
       "$\\displaystyle x^{3} + 2 x + 2 y + 3$"
      ],
      "text/plain": [
       "x**3 + 2*x + 2*y + 3"
      ]
     },
     "execution_count": 155,
     "metadata": {},
     "output_type": "execute_result"
    }
   ],
   "source": [
    "f = x ** 3 + 2 * x + 3 + 2 * y\n",
    "f"
   ]
  },
  {
   "cell_type": "code",
   "execution_count": 158,
   "id": "3bcfae1a",
   "metadata": {},
   "outputs": [
    {
     "data": {
      "text/latex": [
       "$\\displaystyle 3 x^{2} + 2$"
      ],
      "text/plain": [
       "3*x**2 + 2"
      ]
     },
     "execution_count": 158,
     "metadata": {},
     "output_type": "execute_result"
    }
   ],
   "source": [
    "sp.diff(f, x)"
   ]
  },
  {
   "cell_type": "code",
   "execution_count": 159,
   "id": "18ba6eba",
   "metadata": {},
   "outputs": [
    {
     "data": {
      "text/latex": [
       "$\\displaystyle 2$"
      ],
      "text/plain": [
       "2"
      ]
     },
     "execution_count": 159,
     "metadata": {},
     "output_type": "execute_result"
    }
   ],
   "source": [
    "sp.diff(f, y)"
   ]
  },
  {
   "cell_type": "code",
   "execution_count": 180,
   "id": "1d5f83ae",
   "metadata": {},
   "outputs": [
    {
     "data": {
      "text/latex": [
       "$\\displaystyle x^{2} - 6 x + 5$"
      ],
      "text/plain": [
       "x**2 - 6*x + 5"
      ]
     },
     "execution_count": 180,
     "metadata": {},
     "output_type": "execute_result"
    }
   ],
   "source": [
    "g = x ** 2 - 6 * x + 5\n",
    "g"
   ]
  },
  {
   "cell_type": "code",
   "execution_count": 183,
   "id": "cefcdfa0",
   "metadata": {},
   "outputs": [
    {
     "data": {
      "text/latex": [
       "$\\displaystyle 2 x - 6$"
      ],
      "text/plain": [
       "2*x - 6"
      ]
     },
     "execution_count": 183,
     "metadata": {},
     "output_type": "execute_result"
    }
   ],
   "source": [
    "diff_g = sp.diff(g, x)\n",
    "diff_g"
   ]
  },
  {
   "cell_type": "code",
   "execution_count": 184,
   "id": "0f934a24",
   "metadata": {},
   "outputs": [
    {
     "data": {
      "text/plain": [
       "[3]"
      ]
     },
     "execution_count": 184,
     "metadata": {},
     "output_type": "execute_result"
    }
   ],
   "source": [
    "sp.solve(diff_g)"
   ]
  },
  {
   "cell_type": "markdown",
   "id": "8116f142",
   "metadata": {},
   "source": [
    "# Plotting equations"
   ]
  },
  {
   "cell_type": "code",
   "execution_count": 2,
   "id": "e8f0e99c",
   "metadata": {},
   "outputs": [
    {
     "name": "stdout",
     "output_type": "stream",
     "text": [
      "CPU times: total: 0 ns\n",
      "Wall time: 0 ns\n"
     ]
    },
    {
     "data": {
      "image/png": "[encoded data removed]",
      "text/plain": [
       "<Figure size 640x480 with 1 Axes>"
      ]
     },
     "metadata": {},
     "output_type": "display_data"
    }
   ],
   "source": [
    "%time x = np.arange(-10, 10, 0.1)\n",
    "y = np.sin(x) + x \n",
    "plt.plot(x, y)\n",
    "plt.axvline(x=0,c='lightgray')\n",
    "plt.axhline(y=0,c='lightgray')\n",
    "plt.show()"
   ]
  },
  {
   "cell_type": "markdown",
   "id": "c2d0c664",
   "metadata": {},
   "source": [
    "# Integrate"
   ]
  },
  {
   "cell_type": "code",
   "execution_count": 3,
   "id": "d738f3a0",
   "metadata": {},
   "outputs": [],
   "source": [
    "import sympy as sp"
   ]
  },
  {
   "cell_type": "code",
   "execution_count": 4,
   "id": "29b6972f",
   "metadata": {},
   "outputs": [],
   "source": [
    "x,y = sp.symbols('x,y')"
   ]
  },
  {
   "cell_type": "code",
   "execution_count": 5,
   "id": "9b611b29",
   "metadata": {},
   "outputs": [
    {
     "data": {
      "text/latex": [
       "$\\displaystyle \\frac{x^{2}}{2}$"
      ],
      "text/plain": [
       "x**2/2"
      ]
     },
     "execution_count": 5,
     "metadata": {},
     "output_type": "execute_result"
    }
   ],
   "source": [
    "sp.integrate(x)"
   ]
  },
  {
   "cell_type": "code",
   "execution_count": 6,
   "id": "49fd2be9",
   "metadata": {},
   "outputs": [
    {
     "data": {
      "text/latex": [
       "$\\displaystyle \\frac{y^{2}}{2}$"
      ],
      "text/plain": [
       "y**2/2"
      ]
     },
     "execution_count": 6,
     "metadata": {},
     "output_type": "execute_result"
    }
   ],
   "source": [
    "sp.integrate(y)"
   ]
  },
  {
   "cell_type": "code",
   "execution_count": 7,
   "id": "63adf564",
   "metadata": {},
   "outputs": [
    {
     "data": {
      "text/latex": [
       "$\\displaystyle \\frac{x^{2}}{2}$"
      ],
      "text/plain": [
       "x**2/2"
      ]
     },
     "execution_count": 7,
     "metadata": {},
     "output_type": "execute_result"
    }
   ],
   "source": [
    "sp.integrate(x,x)"
   ]
  },
  {
   "cell_type": "code",
   "execution_count": 9,
   "id": "9adcb6f4",
   "metadata": {},
   "outputs": [
    {
     "data": {
      "text/latex": [
       "$\\displaystyle x y$"
      ],
      "text/plain": [
       "x*y"
      ]
     },
     "execution_count": 9,
     "metadata": {},
     "output_type": "execute_result"
    }
   ],
   "source": [
    "sp.integrate(x,y) #xdy"
   ]
  },
  {
   "cell_type": "code",
   "execution_count": 14,
   "id": "c0ff1d91",
   "metadata": {},
   "outputs": [
    {
     "data": {
      "text/latex": [
       "$\\displaystyle \\frac{x^{3}}{3}$"
      ],
      "text/plain": [
       "x**3/3"
      ]
     },
     "execution_count": 14,
     "metadata": {},
     "output_type": "execute_result"
    }
   ],
   "source": [
    "f = x ** 2\n",
    "sp.integrate(f, x)"
   ]
  },
  {
   "cell_type": "code",
   "execution_count": 15,
   "id": "5e2e764c",
   "metadata": {},
   "outputs": [
    {
     "data": {
      "text/latex": [
       "$\\displaystyle \\frac{3}{2}$"
      ],
      "text/plain": [
       "3/2"
      ]
     },
     "execution_count": 15,
     "metadata": {},
     "output_type": "execute_result"
    }
   ],
   "source": [
    "sp.integrate(x, (x, 1, 2))"
   ]
  },
  {
   "cell_type": "code",
   "execution_count": 20,
   "id": "c11408d5",
   "metadata": {},
   "outputs": [
    {
     "data": {
      "image/png": "[encoded data removed]",
      "text/plain": [
       "<Figure size 640x480 with 1 Axes>"
      ]
     },
     "metadata": {},
     "output_type": "display_data"
    }
   ],
   "source": [
    "x = np.linspace(-3,3,1000)\n",
    "y = x ** 2\n",
    "\n",
    "plt.plot(x, y, color='r')\n",
    "plt.axhline(color='gray')\n",
    "plt.fill_between(x, x, where=[(i >=1) and (i ** 2 <= 2) for i in x],color = 'g' )\n",
    "\n",
    "plt.show()"
   ]
  },
  {
   "cell_type": "code",
   "execution_count": null,
   "id": "4206f0ff",
   "metadata": {},
   "outputs": [],
   "source": []
  }
 ],
 "metadata": {
  "kernelspec": {
   "display_name": "Python 3 (ipykernel)",
   "language": "python",
   "name": "python3"
  },
  "language_info": {
   "codemirror_mode": {
    "name": "ipython",
    "version": 3
   },
   "file_extension": ".py",
   "mimetype": "text/x-python",
   "name": "python",
   "nbconvert_exporter": "python",
   "pygments_lexer": "ipython3",
   "version": "3.10.9"
  }
 },
 "nbformat": 4,
 "nbformat_minor": 5
}
